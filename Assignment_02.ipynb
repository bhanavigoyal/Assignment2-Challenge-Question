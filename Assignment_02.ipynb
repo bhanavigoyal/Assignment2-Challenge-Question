{
  "nbformat": 4,
  "nbformat_minor": 0,
  "metadata": {
    "colab": {
      "provenance": [],
      "authorship_tag": "ABX9TyM1KqzaLUEsifNxMe7R4ZPP",
      "include_colab_link": true
    },
    "kernelspec": {
      "name": "python3",
      "display_name": "Python 3"
    },
    "language_info": {
      "name": "python"
    }
  },
  "cells": [
    {
      "cell_type": "markdown",
      "metadata": {
        "id": "view-in-github",
        "colab_type": "text"
      },
      "source": [
        "<a href=\"https://colab.research.google.com/github/bhanavigoyal/Assignment2-Challenge-Question/blob/main/Assignment_02.ipynb\" target=\"_parent\"><img src=\"https://colab.research.google.com/assets/colab-badge.svg\" alt=\"Open In Colab\"/></a>"
      ]
    },
    {
      "cell_type": "code",
      "execution_count": 17,
      "metadata": {
        "colab": {
          "base_uri": "https://localhost:8080/"
        },
        "id": "Y13fPxlH-hq9",
        "outputId": "652cdf66-0cae-4a2a-8785-586b360e1b70"
      },
      "outputs": [
        {
          "output_type": "stream",
          "name": "stdout",
          "text": [
            "['Ram', 1, 'Shyam', 2, 'Aman', 3]\n",
            "[1, 2, 3, 'Aman', 'Ram', 'Shyam']\n"
          ]
        }
      ],
      "source": [
        "L = [\"Ram\",1,\"Shyam\",2,\"Aman\",3]\n",
        "print(L)\n",
        "for i in range(len(L)):\n",
        "  if isinstance(L[i],int):\n",
        "    L[i] = str(L[i])\n",
        "L.sort()\n",
        "for i in range(len(L)):\n",
        "  if L[i].isnumeric():\n",
        "    L[i] = int(L[i])\n",
        "\n",
        "print(L)"
      ]
    }
  ]
}